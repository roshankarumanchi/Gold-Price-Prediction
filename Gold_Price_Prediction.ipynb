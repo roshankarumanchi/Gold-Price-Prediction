{
 "cells": [
  {
   "cell_type": "markdown",
   "id": "8649250a",
   "metadata": {
    "_cell_guid": "b1076dfc-b9ad-4769-8c92-a6c4dae69d19",
    "_uuid": "8f2839f25d086af736a60e9eeb907d3b93b6e0e5",
    "execution": {
     "iopub.execute_input": "2022-07-18T17:40:09.679612Z",
     "iopub.status.busy": "2022-07-18T17:40:09.679237Z",
     "iopub.status.idle": "2022-07-18T17:40:09.824024Z",
     "shell.execute_reply": "2022-07-18T17:40:09.823208Z",
     "shell.execute_reply.started": "2022-07-18T17:40:09.679578Z"
    },
    "papermill": {
     "duration": 0.012486,
     "end_time": "2022-08-23T16:45:56.707209",
     "exception": false,
     "start_time": "2022-08-23T16:45:56.694723",
     "status": "completed"
    },
    "tags": []
   },
   "source": [
    "## GOLD PRICE PREDICTION"
   ]
  },
  {
   "cell_type": "markdown",
   "id": "2fdba982",
   "metadata": {
    "execution": {
     "iopub.execute_input": "2022-08-23T16:45:56.745808Z",
     "iopub.status.busy": "2022-08-23T16:45:56.745170Z",
     "iopub.status.idle": "2022-08-23T16:45:58.008217Z",
     "shell.execute_reply": "2022-08-23T16:45:58.007374Z"
    },
    "papermill": {
     "duration": 1.290722,
     "end_time": "2022-08-23T16:45:58.010789",
     "exception": false,
     "start_time": "2022-08-23T16:45:56.720067",
     "status": "completed"
    },
    "tags": []
   },
   "source": [
    "## IMPORT LIBRARIES"
   ]
  },
  {
   "cell_type": "code",
   "execution_count": 1,
   "id": "13e01d74",
   "metadata": {},
   "outputs": [],
   "source": [
    "import numpy as np\n",
    "import pandas as pd\n",
    "import seaborn as sns\n",
    "import matplotlib.pyplot as plt\n",
    "from sklearn.model_selection import train_test_split\n",
    "from sklearn import metrics\n",
    "from sklearn.metrics import confusion_matrix, accuracy_score\n",
    "from sklearn.ensemble import ExtraTreesRegressor\n",
    "import warnings\n",
    "warnings.filterwarnings(\"ignore\")"
   ]
  },
  {
   "cell_type": "code",
   "execution_count": 2,
   "id": "c4b27a19",
   "metadata": {
    "execution": {
     "iopub.execute_input": "2022-08-23T16:45:58.086499Z",
     "iopub.status.busy": "2022-08-23T16:45:58.085716Z",
     "iopub.status.idle": "2022-08-23T16:45:58.106169Z",
     "shell.execute_reply": "2022-08-23T16:45:58.105437Z"
    },
    "papermill": {
     "duration": 0.034001,
     "end_time": "2022-08-23T16:45:58.108066",
     "exception": false,
     "start_time": "2022-08-23T16:45:58.074065",
     "status": "completed"
    },
    "tags": []
   },
   "outputs": [],
   "source": [
    "data = pd.read_csv('gld_price_data.csv')"
   ]
  },
  {
   "cell_type": "code",
   "execution_count": 4,
   "id": "a15633a4",
   "metadata": {
    "execution": {
     "iopub.execute_input": "2022-08-23T16:45:58.132462Z",
     "iopub.status.busy": "2022-08-23T16:45:58.131791Z",
     "iopub.status.idle": "2022-08-23T16:45:58.151187Z",
     "shell.execute_reply": "2022-08-23T16:45:58.150464Z"
    },
    "papermill": {
     "duration": 0.033301,
     "end_time": "2022-08-23T16:45:58.153445",
     "exception": false,
     "start_time": "2022-08-23T16:45:58.120144",
     "status": "completed"
    },
    "tags": []
   },
   "outputs": [
    {
     "data": {
      "text/html": [
       "<div>\n",
       "<style scoped>\n",
       "    .dataframe tbody tr th:only-of-type {\n",
       "        vertical-align: middle;\n",
       "    }\n",
       "\n",
       "    .dataframe tbody tr th {\n",
       "        vertical-align: top;\n",
       "    }\n",
       "\n",
       "    .dataframe thead th {\n",
       "        text-align: right;\n",
       "    }\n",
       "</style>\n",
       "<table border=\"1\" class=\"dataframe\">\n",
       "  <thead>\n",
       "    <tr style=\"text-align: right;\">\n",
       "      <th></th>\n",
       "      <th>Date</th>\n",
       "      <th>SPX</th>\n",
       "      <th>GLD</th>\n",
       "      <th>USO</th>\n",
       "      <th>SLV</th>\n",
       "      <th>EUR/USD</th>\n",
       "    </tr>\n",
       "  </thead>\n",
       "  <tbody>\n",
       "    <tr>\n",
       "      <th>0</th>\n",
       "      <td>1/2/2008</td>\n",
       "      <td>1447.160034</td>\n",
       "      <td>84.860001</td>\n",
       "      <td>78.470001</td>\n",
       "      <td>15.180</td>\n",
       "      <td>1.471692</td>\n",
       "    </tr>\n",
       "    <tr>\n",
       "      <th>1</th>\n",
       "      <td>1/3/2008</td>\n",
       "      <td>1447.160034</td>\n",
       "      <td>85.570000</td>\n",
       "      <td>78.370003</td>\n",
       "      <td>15.285</td>\n",
       "      <td>1.474491</td>\n",
       "    </tr>\n",
       "    <tr>\n",
       "      <th>2</th>\n",
       "      <td>1/4/2008</td>\n",
       "      <td>1411.630005</td>\n",
       "      <td>85.129997</td>\n",
       "      <td>77.309998</td>\n",
       "      <td>15.167</td>\n",
       "      <td>1.475492</td>\n",
       "    </tr>\n",
       "    <tr>\n",
       "      <th>3</th>\n",
       "      <td>1/7/2008</td>\n",
       "      <td>1416.180054</td>\n",
       "      <td>84.769997</td>\n",
       "      <td>75.500000</td>\n",
       "      <td>15.053</td>\n",
       "      <td>1.468299</td>\n",
       "    </tr>\n",
       "    <tr>\n",
       "      <th>4</th>\n",
       "      <td>1/8/2008</td>\n",
       "      <td>1390.189941</td>\n",
       "      <td>86.779999</td>\n",
       "      <td>76.059998</td>\n",
       "      <td>15.590</td>\n",
       "      <td>1.557099</td>\n",
       "    </tr>\n",
       "  </tbody>\n",
       "</table>\n",
       "</div>"
      ],
      "text/plain": [
       "       Date          SPX        GLD        USO     SLV   EUR/USD\n",
       "0  1/2/2008  1447.160034  84.860001  78.470001  15.180  1.471692\n",
       "1  1/3/2008  1447.160034  85.570000  78.370003  15.285  1.474491\n",
       "2  1/4/2008  1411.630005  85.129997  77.309998  15.167  1.475492\n",
       "3  1/7/2008  1416.180054  84.769997  75.500000  15.053  1.468299\n",
       "4  1/8/2008  1390.189941  86.779999  76.059998  15.590  1.557099"
      ]
     },
     "execution_count": 4,
     "metadata": {},
     "output_type": "execute_result"
    }
   ],
   "source": [
    "data.head()"
   ]
  },
  {
   "cell_type": "markdown",
   "id": "3a5f7462",
   "metadata": {
    "papermill": {
     "duration": 0.010765,
     "end_time": "2022-08-23T16:45:58.176101",
     "exception": false,
     "start_time": "2022-08-23T16:45:58.165336",
     "status": "completed"
    },
    "tags": []
   },
   "source": [
    "# EDA"
   ]
  },
  {
   "cell_type": "code",
   "execution_count": 5,
   "id": "b8723ebb",
   "metadata": {
    "execution": {
     "iopub.execute_input": "2022-08-23T16:45:58.222383Z",
     "iopub.status.busy": "2022-08-23T16:45:58.222063Z",
     "iopub.status.idle": "2022-08-23T16:45:58.226969Z",
     "shell.execute_reply": "2022-08-23T16:45:58.226277Z"
    },
    "papermill": {
     "duration": 0.01853,
     "end_time": "2022-08-23T16:45:58.228816",
     "exception": false,
     "start_time": "2022-08-23T16:45:58.210286",
     "status": "completed"
    },
    "tags": []
   },
   "outputs": [
    {
     "data": {
      "text/plain": [
       "(2290, 6)"
      ]
     },
     "execution_count": 5,
     "metadata": {},
     "output_type": "execute_result"
    }
   ],
   "source": [
    "data.shape"
   ]
  },
  {
   "cell_type": "code",
   "execution_count": 6,
   "id": "7ea5fa3d",
   "metadata": {
    "execution": {
     "iopub.execute_input": "2022-08-23T16:45:58.252555Z",
     "iopub.status.busy": "2022-08-23T16:45:58.251939Z",
     "iopub.status.idle": "2022-08-23T16:45:58.277195Z",
     "shell.execute_reply": "2022-08-23T16:45:58.276372Z"
    },
    "papermill": {
     "duration": 0.04061,
     "end_time": "2022-08-23T16:45:58.280502",
     "exception": false,
     "start_time": "2022-08-23T16:45:58.239892",
     "status": "completed"
    },
    "tags": []
   },
   "outputs": [
    {
     "name": "stdout",
     "output_type": "stream",
     "text": [
      "<class 'pandas.core.frame.DataFrame'>\n",
      "RangeIndex: 2290 entries, 0 to 2289\n",
      "Data columns (total 6 columns):\n",
      " #   Column   Non-Null Count  Dtype  \n",
      "---  ------   --------------  -----  \n",
      " 0   Date     2290 non-null   object \n",
      " 1   SPX      2290 non-null   float64\n",
      " 2   GLD      2290 non-null   float64\n",
      " 3   USO      2290 non-null   float64\n",
      " 4   SLV      2290 non-null   float64\n",
      " 5   EUR/USD  2290 non-null   float64\n",
      "dtypes: float64(5), object(1)\n",
      "memory usage: 107.5+ KB\n"
     ]
    }
   ],
   "source": [
    "data.info()"
   ]
  },
  {
   "cell_type": "code",
   "execution_count": 7,
   "id": "80a19cfd",
   "metadata": {
    "execution": {
     "iopub.execute_input": "2022-08-23T16:45:58.305333Z",
     "iopub.status.busy": "2022-08-23T16:45:58.304561Z",
     "iopub.status.idle": "2022-08-23T16:45:58.322783Z",
     "shell.execute_reply": "2022-08-23T16:45:58.321788Z"
    },
    "papermill": {
     "duration": 0.033658,
     "end_time": "2022-08-23T16:45:58.326093",
     "exception": false,
     "start_time": "2022-08-23T16:45:58.292435",
     "status": "completed"
    },
    "tags": []
   },
   "outputs": [
    {
     "data": {
      "text/plain": [
       "Date       0\n",
       "SPX        0\n",
       "GLD        0\n",
       "USO        0\n",
       "SLV        0\n",
       "EUR/USD    0\n",
       "dtype: int64"
      ]
     },
     "execution_count": 7,
     "metadata": {},
     "output_type": "execute_result"
    }
   ],
   "source": [
    "data.isna().sum()"
   ]
  },
  {
   "cell_type": "code",
   "execution_count": 8,
   "id": "6161ecc6",
   "metadata": {
    "execution": {
     "iopub.execute_input": "2022-08-23T16:45:58.381016Z",
     "iopub.status.busy": "2022-08-23T16:45:58.380458Z",
     "iopub.status.idle": "2022-08-23T16:45:58.435645Z",
     "shell.execute_reply": "2022-08-23T16:45:58.434503Z"
    },
    "papermill": {
     "duration": 0.087627,
     "end_time": "2022-08-23T16:45:58.438175",
     "exception": false,
     "start_time": "2022-08-23T16:45:58.350548",
     "status": "completed"
    },
    "tags": []
   },
   "outputs": [
    {
     "data": {
      "text/html": [
       "<div>\n",
       "<style scoped>\n",
       "    .dataframe tbody tr th:only-of-type {\n",
       "        vertical-align: middle;\n",
       "    }\n",
       "\n",
       "    .dataframe tbody tr th {\n",
       "        vertical-align: top;\n",
       "    }\n",
       "\n",
       "    .dataframe thead th {\n",
       "        text-align: right;\n",
       "    }\n",
       "</style>\n",
       "<table border=\"1\" class=\"dataframe\">\n",
       "  <thead>\n",
       "    <tr style=\"text-align: right;\">\n",
       "      <th></th>\n",
       "      <th>SPX</th>\n",
       "      <th>GLD</th>\n",
       "      <th>USO</th>\n",
       "      <th>SLV</th>\n",
       "      <th>EUR/USD</th>\n",
       "    </tr>\n",
       "  </thead>\n",
       "  <tbody>\n",
       "    <tr>\n",
       "      <th>count</th>\n",
       "      <td>2290.000000</td>\n",
       "      <td>2290.000000</td>\n",
       "      <td>2290.000000</td>\n",
       "      <td>2290.000000</td>\n",
       "      <td>2290.000000</td>\n",
       "    </tr>\n",
       "    <tr>\n",
       "      <th>mean</th>\n",
       "      <td>1654.315776</td>\n",
       "      <td>122.732875</td>\n",
       "      <td>31.842221</td>\n",
       "      <td>20.084997</td>\n",
       "      <td>1.283653</td>\n",
       "    </tr>\n",
       "    <tr>\n",
       "      <th>std</th>\n",
       "      <td>519.111540</td>\n",
       "      <td>23.283346</td>\n",
       "      <td>19.523517</td>\n",
       "      <td>7.092566</td>\n",
       "      <td>0.131547</td>\n",
       "    </tr>\n",
       "    <tr>\n",
       "      <th>min</th>\n",
       "      <td>676.530029</td>\n",
       "      <td>70.000000</td>\n",
       "      <td>7.960000</td>\n",
       "      <td>8.850000</td>\n",
       "      <td>1.039047</td>\n",
       "    </tr>\n",
       "    <tr>\n",
       "      <th>25%</th>\n",
       "      <td>1239.874969</td>\n",
       "      <td>109.725000</td>\n",
       "      <td>14.380000</td>\n",
       "      <td>15.570000</td>\n",
       "      <td>1.171313</td>\n",
       "    </tr>\n",
       "    <tr>\n",
       "      <th>50%</th>\n",
       "      <td>1551.434998</td>\n",
       "      <td>120.580002</td>\n",
       "      <td>33.869999</td>\n",
       "      <td>17.268500</td>\n",
       "      <td>1.303297</td>\n",
       "    </tr>\n",
       "    <tr>\n",
       "      <th>75%</th>\n",
       "      <td>2073.010070</td>\n",
       "      <td>132.840004</td>\n",
       "      <td>37.827501</td>\n",
       "      <td>22.882500</td>\n",
       "      <td>1.369971</td>\n",
       "    </tr>\n",
       "    <tr>\n",
       "      <th>max</th>\n",
       "      <td>2872.870117</td>\n",
       "      <td>184.589996</td>\n",
       "      <td>117.480003</td>\n",
       "      <td>47.259998</td>\n",
       "      <td>1.598798</td>\n",
       "    </tr>\n",
       "  </tbody>\n",
       "</table>\n",
       "</div>"
      ],
      "text/plain": [
       "               SPX          GLD          USO          SLV      EUR/USD\n",
       "count  2290.000000  2290.000000  2290.000000  2290.000000  2290.000000\n",
       "mean   1654.315776   122.732875    31.842221    20.084997     1.283653\n",
       "std     519.111540    23.283346    19.523517     7.092566     0.131547\n",
       "min     676.530029    70.000000     7.960000     8.850000     1.039047\n",
       "25%    1239.874969   109.725000    14.380000    15.570000     1.171313\n",
       "50%    1551.434998   120.580002    33.869999    17.268500     1.303297\n",
       "75%    2073.010070   132.840004    37.827501    22.882500     1.369971\n",
       "max    2872.870117   184.589996   117.480003    47.259998     1.598798"
      ]
     },
     "execution_count": 8,
     "metadata": {},
     "output_type": "execute_result"
    }
   ],
   "source": [
    "data.describe()"
   ]
  },
  {
   "cell_type": "code",
   "execution_count": 9,
   "id": "39da36c5",
   "metadata": {
    "execution": {
     "iopub.execute_input": "2022-08-23T16:45:58.486004Z",
     "iopub.status.busy": "2022-08-23T16:45:58.485540Z",
     "iopub.status.idle": "2022-08-23T16:45:58.498459Z",
     "shell.execute_reply": "2022-08-23T16:45:58.497774Z"
    },
    "papermill": {
     "duration": 0.036699,
     "end_time": "2022-08-23T16:45:58.500751",
     "exception": false,
     "start_time": "2022-08-23T16:45:58.464052",
     "status": "completed"
    },
    "tags": []
   },
   "outputs": [
    {
     "data": {
      "text/plain": [
       "0"
      ]
     },
     "execution_count": 9,
     "metadata": {},
     "output_type": "execute_result"
    }
   ],
   "source": [
    "data.duplicated().sum()"
   ]
  },
  {
   "cell_type": "code",
   "execution_count": 10,
   "id": "517e6cfc",
   "metadata": {
    "execution": {
     "iopub.execute_input": "2022-08-23T16:45:58.540754Z",
     "iopub.status.busy": "2022-08-23T16:45:58.540377Z",
     "iopub.status.idle": "2022-08-23T16:45:58.553545Z",
     "shell.execute_reply": "2022-08-23T16:45:58.552898Z"
    },
    "papermill": {
     "duration": 0.035494,
     "end_time": "2022-08-23T16:45:58.556089",
     "exception": false,
     "start_time": "2022-08-23T16:45:58.520595",
     "status": "completed"
    },
    "tags": []
   },
   "outputs": [
    {
     "data": {
      "text/plain": [
       "Date       2290\n",
       "SPX        2277\n",
       "GLD        1930\n",
       "USO        1514\n",
       "SLV        1331\n",
       "EUR/USD    2066\n",
       "dtype: int64"
      ]
     },
     "execution_count": 10,
     "metadata": {},
     "output_type": "execute_result"
    }
   ],
   "source": [
    "data.nunique()"
   ]
  },
  {
   "cell_type": "markdown",
   "id": "8343b0f9",
   "metadata": {
    "papermill": {
     "duration": 0.017257,
     "end_time": "2022-08-23T16:45:58.591154",
     "exception": false,
     "start_time": "2022-08-23T16:45:58.573897",
     "status": "completed"
    },
    "tags": []
   },
   "source": [
    "### Visualization Analysis"
   ]
  },
  {
   "cell_type": "code",
   "execution_count": 11,
   "id": "e48f1763",
   "metadata": {
    "execution": {
     "iopub.execute_input": "2022-08-23T16:45:58.627334Z",
     "iopub.status.busy": "2022-08-23T16:45:58.627005Z",
     "iopub.status.idle": "2022-08-23T16:45:59.498893Z",
     "shell.execute_reply": "2022-08-23T16:45:59.498039Z"
    },
    "papermill": {
     "duration": 0.892275,
     "end_time": "2022-08-23T16:45:59.500902",
     "exception": false,
     "start_time": "2022-08-23T16:45:58.608627",
     "status": "completed"
    },
    "tags": []
   },
   "outputs": [
    {
     "data": {
      "image/png": "[encoded data removed]",
      "text/plain": [
       "<Figure size 2400x400 with 5 Axes>"
      ]
     },
     "metadata": {},
     "output_type": "display_data"
    }
   ],
   "source": [
    "data.hist(figsize=(24,4), layout=(1,5), color=\"g\");"
   ]
  },
  {
   "cell_type": "code",
   "execution_count": 12,
   "id": "12d7e918",
   "metadata": {
    "execution": {
     "iopub.execute_input": "2022-08-23T16:46:00.607600Z",
     "iopub.status.busy": "2022-08-23T16:46:00.607273Z",
     "iopub.status.idle": "2022-08-23T16:46:01.113554Z",
     "shell.execute_reply": "2022-08-23T16:46:01.112770Z"
    },
    "papermill": {
     "duration": 0.522428,
     "end_time": "2022-08-23T16:46:01.115454",
     "exception": false,
     "start_time": "2022-08-23T16:46:00.593026",
     "status": "completed"
    },
    "tags": []
   },
   "outputs": [
    {
     "data": {
      "image/png": "[encoded data removed]",
      "text/plain": [
       "<Figure size 2400x400 with 5 Axes>"
      ]
     },
     "metadata": {},
     "output_type": "display_data"
    }
   ],
   "source": [
    "data.plot(kind=\"box\", subplots=True, layout=(1,5), figsize=(24,4),sharex=False, sharey=False);"
   ]
  },
  {
   "cell_type": "markdown",
   "id": "001bbc0b",
   "metadata": {
    "papermill": {
     "duration": 0.018964,
     "end_time": "2022-08-23T16:46:08.557620",
     "exception": false,
     "start_time": "2022-08-23T16:46:08.538656",
     "status": "completed"
    },
    "tags": []
   },
   "source": [
    "# PREPROCESSING"
   ]
  },
  {
   "cell_type": "code",
   "execution_count": 13,
   "id": "59027520",
   "metadata": {
    "execution": {
     "iopub.execute_input": "2022-08-23T16:46:08.596470Z",
     "iopub.status.busy": "2022-08-23T16:46:08.596160Z",
     "iopub.status.idle": "2022-08-23T16:46:08.600336Z",
     "shell.execute_reply": "2022-08-23T16:46:08.599524Z"
    },
    "papermill": {
     "duration": 0.026021,
     "end_time": "2022-08-23T16:46:08.602038",
     "exception": false,
     "start_time": "2022-08-23T16:46:08.576017",
     "status": "completed"
    },
    "tags": []
   },
   "outputs": [],
   "source": [
    "data_preprocessed = data.copy()"
   ]
  },
  {
   "cell_type": "code",
   "execution_count": 14,
   "id": "23041d7d",
   "metadata": {
    "execution": {
     "iopub.execute_input": "2022-08-23T16:46:08.639781Z",
     "iopub.status.busy": "2022-08-23T16:46:08.639518Z",
     "iopub.status.idle": "2022-08-23T16:46:08.647785Z",
     "shell.execute_reply": "2022-08-23T16:46:08.646991Z"
    },
    "papermill": {
     "duration": 0.029277,
     "end_time": "2022-08-23T16:46:08.649479",
     "exception": false,
     "start_time": "2022-08-23T16:46:08.620202",
     "status": "completed"
    },
    "tags": []
   },
   "outputs": [
    {
     "data": {
      "text/plain": [
       "Date       0.0\n",
       "SPX        0.0\n",
       "GLD        0.0\n",
       "USO        0.0\n",
       "SLV        0.0\n",
       "EUR/USD    0.0\n",
       "dtype: float64"
      ]
     },
     "execution_count": 14,
     "metadata": {},
     "output_type": "execute_result"
    }
   ],
   "source": [
    "data_preprocessed.isnull().mean() * 100"
   ]
  },
  {
   "cell_type": "code",
   "execution_count": 15,
   "id": "c2c32bbe",
   "metadata": {
    "execution": {
     "iopub.execute_input": "2022-08-23T16:46:08.688488Z",
     "iopub.status.busy": "2022-08-23T16:46:08.688171Z",
     "iopub.status.idle": "2022-08-23T16:46:08.694477Z",
     "shell.execute_reply": "2022-08-23T16:46:08.693762Z"
    },
    "papermill": {
     "duration": 0.027875,
     "end_time": "2022-08-23T16:46:08.696158",
     "exception": false,
     "start_time": "2022-08-23T16:46:08.668283",
     "status": "completed"
    },
    "tags": []
   },
   "outputs": [],
   "source": [
    "date_columns = ['Date']\n",
    "num_columns = data_preprocessed.select_dtypes(include=['float64', 'int64']).columns\n",
    "target_col = 'GLD'"
   ]
  },
  {
   "cell_type": "code",
   "execution_count": 16,
   "id": "18636c21",
   "metadata": {
    "execution": {
     "iopub.execute_input": "2022-08-23T16:46:08.734384Z",
     "iopub.status.busy": "2022-08-23T16:46:08.734002Z",
     "iopub.status.idle": "2022-08-23T16:46:08.739180Z",
     "shell.execute_reply": "2022-08-23T16:46:08.738464Z"
    },
    "papermill": {
     "duration": 0.026644,
     "end_time": "2022-08-23T16:46:08.740887",
     "exception": false,
     "start_time": "2022-08-23T16:46:08.714243",
     "status": "completed"
    },
    "tags": []
   },
   "outputs": [
    {
     "data": {
      "text/plain": [
       "Index(['SPX', 'GLD', 'USO', 'SLV', 'EUR/USD'], dtype='object')"
      ]
     },
     "execution_count": 16,
     "metadata": {},
     "output_type": "execute_result"
    }
   ],
   "source": [
    "num_columns"
   ]
  },
  {
   "cell_type": "code",
   "execution_count": 17,
   "id": "023e9228",
   "metadata": {
    "execution": {
     "iopub.execute_input": "2022-08-23T16:46:08.779465Z",
     "iopub.status.busy": "2022-08-23T16:46:08.778752Z",
     "iopub.status.idle": "2022-08-23T16:46:08.790011Z",
     "shell.execute_reply": "2022-08-23T16:46:08.789194Z"
    },
    "papermill": {
     "duration": 0.032914,
     "end_time": "2022-08-23T16:46:08.792211",
     "exception": false,
     "start_time": "2022-08-23T16:46:08.759297",
     "status": "completed"
    },
    "tags": []
   },
   "outputs": [
    {
     "data": {
      "text/html": [
       "<div>\n",
       "<style scoped>\n",
       "    .dataframe tbody tr th:only-of-type {\n",
       "        vertical-align: middle;\n",
       "    }\n",
       "\n",
       "    .dataframe tbody tr th {\n",
       "        vertical-align: top;\n",
       "    }\n",
       "\n",
       "    .dataframe thead th {\n",
       "        text-align: right;\n",
       "    }\n",
       "</style>\n",
       "<table border=\"1\" class=\"dataframe\">\n",
       "  <thead>\n",
       "    <tr style=\"text-align: right;\">\n",
       "      <th></th>\n",
       "      <th>Date</th>\n",
       "      <th>SPX</th>\n",
       "      <th>GLD</th>\n",
       "      <th>USO</th>\n",
       "      <th>SLV</th>\n",
       "      <th>EUR/USD</th>\n",
       "    </tr>\n",
       "  </thead>\n",
       "  <tbody>\n",
       "    <tr>\n",
       "      <th>0</th>\n",
       "      <td>1/2/2008</td>\n",
       "      <td>1447.160034</td>\n",
       "      <td>84.860001</td>\n",
       "      <td>78.470001</td>\n",
       "      <td>15.180</td>\n",
       "      <td>1.471692</td>\n",
       "    </tr>\n",
       "    <tr>\n",
       "      <th>1</th>\n",
       "      <td>1/3/2008</td>\n",
       "      <td>1447.160034</td>\n",
       "      <td>85.570000</td>\n",
       "      <td>78.370003</td>\n",
       "      <td>15.285</td>\n",
       "      <td>1.474491</td>\n",
       "    </tr>\n",
       "    <tr>\n",
       "      <th>2</th>\n",
       "      <td>1/4/2008</td>\n",
       "      <td>1411.630005</td>\n",
       "      <td>85.129997</td>\n",
       "      <td>77.309998</td>\n",
       "      <td>15.167</td>\n",
       "      <td>1.475492</td>\n",
       "    </tr>\n",
       "    <tr>\n",
       "      <th>3</th>\n",
       "      <td>1/7/2008</td>\n",
       "      <td>1416.180054</td>\n",
       "      <td>84.769997</td>\n",
       "      <td>75.500000</td>\n",
       "      <td>15.053</td>\n",
       "      <td>1.468299</td>\n",
       "    </tr>\n",
       "    <tr>\n",
       "      <th>4</th>\n",
       "      <td>1/8/2008</td>\n",
       "      <td>1390.189941</td>\n",
       "      <td>86.779999</td>\n",
       "      <td>76.059998</td>\n",
       "      <td>15.590</td>\n",
       "      <td>1.557099</td>\n",
       "    </tr>\n",
       "  </tbody>\n",
       "</table>\n",
       "</div>"
      ],
      "text/plain": [
       "       Date          SPX        GLD        USO     SLV   EUR/USD\n",
       "0  1/2/2008  1447.160034  84.860001  78.470001  15.180  1.471692\n",
       "1  1/3/2008  1447.160034  85.570000  78.370003  15.285  1.474491\n",
       "2  1/4/2008  1411.630005  85.129997  77.309998  15.167  1.475492\n",
       "3  1/7/2008  1416.180054  84.769997  75.500000  15.053  1.468299\n",
       "4  1/8/2008  1390.189941  86.779999  76.059998  15.590  1.557099"
      ]
     },
     "execution_count": 17,
     "metadata": {},
     "output_type": "execute_result"
    }
   ],
   "source": [
    "data_preprocessed.head()"
   ]
  },
  {
   "cell_type": "code",
   "execution_count": 18,
   "id": "0f39e7cc",
   "metadata": {
    "execution": {
     "iopub.execute_input": "2022-08-23T16:46:08.831303Z",
     "iopub.status.busy": "2022-08-23T16:46:08.831032Z",
     "iopub.status.idle": "2022-08-23T16:46:08.958617Z",
     "shell.execute_reply": "2022-08-23T16:46:08.957870Z"
    },
    "papermill": {
     "duration": 0.14931,
     "end_time": "2022-08-23T16:46:08.960527",
     "exception": false,
     "start_time": "2022-08-23T16:46:08.811217",
     "status": "completed"
    },
    "tags": []
   },
   "outputs": [],
   "source": [
    "data_preprocessed['Date'] = pd.to_datetime(data_preprocessed['Date'])"
   ]
  },
  {
   "cell_type": "code",
   "execution_count": 19,
   "id": "383113ae",
   "metadata": {
    "execution": {
     "iopub.execute_input": "2022-08-23T16:46:09.000913Z",
     "iopub.status.busy": "2022-08-23T16:46:09.000610Z",
     "iopub.status.idle": "2022-08-23T16:46:09.004618Z",
     "shell.execute_reply": "2022-08-23T16:46:09.003875Z"
    },
    "papermill": {
     "duration": 0.026635,
     "end_time": "2022-08-23T16:46:09.006426",
     "exception": false,
     "start_time": "2022-08-23T16:46:08.979791",
     "status": "completed"
    },
    "tags": []
   },
   "outputs": [],
   "source": [
    "data_preprocessed.reset_index(drop=True, inplace=True)"
   ]
  },
  {
   "cell_type": "code",
   "execution_count": 20,
   "id": "0912936f",
   "metadata": {
    "execution": {
     "iopub.execute_input": "2022-08-23T16:46:09.046079Z",
     "iopub.status.busy": "2022-08-23T16:46:09.045726Z",
     "iopub.status.idle": "2022-08-23T16:46:09.050715Z",
     "shell.execute_reply": "2022-08-23T16:46:09.049986Z"
    },
    "papermill": {
     "duration": 0.026686,
     "end_time": "2022-08-23T16:46:09.052544",
     "exception": false,
     "start_time": "2022-08-23T16:46:09.025858",
     "status": "completed"
    },
    "tags": []
   },
   "outputs": [],
   "source": [
    "data_preprocessed.drop(['Date'], axis=1, inplace=True)"
   ]
  },
  {
   "cell_type": "code",
   "execution_count": 21,
   "id": "be2ab94e",
   "metadata": {
    "execution": {
     "iopub.execute_input": "2022-08-23T16:46:09.092958Z",
     "iopub.status.busy": "2022-08-23T16:46:09.092641Z",
     "iopub.status.idle": "2022-08-23T16:46:09.100368Z",
     "shell.execute_reply": "2022-08-23T16:46:09.099659Z"
    },
    "papermill": {
     "duration": 0.029818,
     "end_time": "2022-08-23T16:46:09.102104",
     "exception": false,
     "start_time": "2022-08-23T16:46:09.072286",
     "status": "completed"
    },
    "tags": []
   },
   "outputs": [],
   "source": [
    "## train test split\n",
    "\n",
    "X = data.drop(['Date','GLD'],axis=1)\n",
    "Y = data['GLD']\n",
    "\n",
    "X_train, X_test, y_train, y_test = train_test_split(X, Y, test_size = 0.2, random_state=42)"
   ]
  },
  {
   "cell_type": "code",
   "execution_count": 22,
   "id": "1a5544a4",
   "metadata": {},
   "outputs": [
    {
     "data": {
      "text/plain": [
       "Index(['SPX', 'USO', 'SLV', 'EUR/USD'], dtype='object')"
      ]
     },
     "execution_count": 22,
     "metadata": {},
     "output_type": "execute_result"
    }
   ],
   "source": [
    "X.columns"
   ]
  },
  {
   "cell_type": "code",
   "execution_count": 23,
   "id": "94bc401f",
   "metadata": {
    "execution": {
     "iopub.execute_input": "2022-08-23T16:46:09.141633Z",
     "iopub.status.busy": "2022-08-23T16:46:09.141349Z",
     "iopub.status.idle": "2022-08-23T16:46:09.150240Z",
     "shell.execute_reply": "2022-08-23T16:46:09.149556Z"
    },
    "papermill": {
     "duration": 0.031397,
     "end_time": "2022-08-23T16:46:09.151941",
     "exception": false,
     "start_time": "2022-08-23T16:46:09.120544",
     "status": "completed"
    },
    "tags": []
   },
   "outputs": [],
   "source": [
    "## Feature Scaling\n",
    "from sklearn.preprocessing import MinMaxScaler\n",
    "\n",
    "scaler = MinMaxScaler()\n",
    "X_train_scaled = scaler.fit_transform(X_train)\n",
    "X_test_scaled = scaler.transform(X_test)"
   ]
  },
  {
   "cell_type": "raw",
   "id": "c33a4f19",
   "metadata": {
    "execution": {
     "iopub.execute_input": "2022-08-23T16:46:09.192307Z",
     "iopub.status.busy": "2022-08-23T16:46:09.191616Z",
     "iopub.status.idle": "2022-08-23T16:46:09.199938Z",
     "shell.execute_reply": "2022-08-23T16:46:09.199217Z"
    },
    "papermill": {
     "duration": 0.031146,
     "end_time": "2022-08-23T16:46:09.201793",
     "exception": false,
     "start_time": "2022-08-23T16:46:09.170647",
     "status": "completed"
    },
    "tags": []
   },
   "source": [
    "## Feature Scaling\n",
    "from sklearn.preprocessing import MinMaxScaler\n",
    "\n",
    "scaler = MinMaxScaler()\n",
    "X_train_scaled = scaler.fit_transform(X_train)\n",
    "X_test_scaled = scaler.transform(X_test)"
   ]
  },
  {
   "cell_type": "markdown",
   "id": "9214d956",
   "metadata": {
    "papermill": {
     "duration": 0.018726,
     "end_time": "2022-08-23T16:46:09.239355",
     "exception": false,
     "start_time": "2022-08-23T16:46:09.220629",
     "status": "completed"
    },
    "tags": []
   },
   "source": [
    "# FEATURE SELECTION"
   ]
  },
  {
   "cell_type": "code",
   "execution_count": 24,
   "id": "f7b37145",
   "metadata": {
    "execution": {
     "iopub.execute_input": "2022-08-23T16:46:09.278462Z",
     "iopub.status.busy": "2022-08-23T16:46:09.278145Z",
     "iopub.status.idle": "2022-08-23T16:46:09.462334Z",
     "shell.execute_reply": "2022-08-23T16:46:09.461076Z"
    },
    "papermill": {
     "duration": 0.208501,
     "end_time": "2022-08-23T16:46:09.466659",
     "exception": false,
     "start_time": "2022-08-23T16:46:09.258158",
     "status": "completed"
    },
    "tags": []
   },
   "outputs": [],
   "source": [
    "from sklearn.feature_selection import SelectKBest\n",
    "\n",
    "fs = SelectKBest(k=3)\n",
    "X_train_scaled = fs.fit_transform(X_train_scaled, y_train)\n",
    "X_test_scaled = fs.transform(X_test_scaled)"
   ]
  },
  {
   "cell_type": "markdown",
   "id": "f6316bd9",
   "metadata": {
    "execution": {
     "iopub.execute_input": "2022-08-18T19:28:45.591237Z",
     "iopub.status.busy": "2022-08-18T19:28:45.590839Z",
     "iopub.status.idle": "2022-08-18T19:28:45.595416Z",
     "shell.execute_reply": "2022-08-18T19:28:45.594178Z",
     "shell.execute_reply.started": "2022-08-18T19:28:45.591207Z"
    },
    "papermill": {
     "duration": 0.044447,
     "end_time": "2022-08-23T16:46:09.548757",
     "exception": false,
     "start_time": "2022-08-23T16:46:09.504310",
     "status": "completed"
    },
    "tags": []
   },
   "source": [
    "# BASELINE MODELING"
   ]
  },
  {
   "cell_type": "code",
   "execution_count": 25,
   "id": "32062e53",
   "metadata": {
    "execution": {
     "iopub.execute_input": "2022-08-23T16:46:09.780893Z",
     "iopub.status.busy": "2022-08-23T16:46:09.780424Z",
     "iopub.status.idle": "2022-08-23T16:46:09.795714Z",
     "shell.execute_reply": "2022-08-23T16:46:09.795022Z"
    },
    "papermill": {
     "duration": 0.048764,
     "end_time": "2022-08-23T16:46:09.798041",
     "exception": false,
     "start_time": "2022-08-23T16:46:09.749277",
     "status": "completed"
    },
    "tags": []
   },
   "outputs": [
    {
     "name": "stdout",
     "output_type": "stream",
     "text": [
      "0.896915567366931\n"
     ]
    }
   ],
   "source": [
    "from sklearn.linear_model import LinearRegression\n",
    "lr = LinearRegression().fit(X_train_scaled, y_train)\n",
    "y_lr = lr.predict(X_test_scaled)\n",
    "lr_score = metrics.r2_score(y_test, y_lr)\n",
    "print(lr_score)"
   ]
  },
  {
   "cell_type": "code",
   "execution_count": 26,
   "id": "158e0b0b",
   "metadata": {
    "execution": {
     "iopub.execute_input": "2022-08-23T16:46:09.860433Z",
     "iopub.status.busy": "2022-08-23T16:46:09.859916Z",
     "iopub.status.idle": "2022-08-23T16:46:09.871332Z",
     "shell.execute_reply": "2022-08-23T16:46:09.870553Z"
    },
    "papermill": {
     "duration": 0.046032,
     "end_time": "2022-08-23T16:46:09.874281",
     "exception": false,
     "start_time": "2022-08-23T16:46:09.828249",
     "status": "completed"
    },
    "tags": []
   },
   "outputs": [
    {
     "name": "stdout",
     "output_type": "stream",
     "text": [
      "0.9886213810048285\n"
     ]
    }
   ],
   "source": [
    "from sklearn.neighbors import KNeighborsRegressor\n",
    "knn = KNeighborsRegressor(n_neighbors=3).fit(X_train_scaled, y_train)\n",
    "y_knn = knn.predict(X_test_scaled)\n",
    "knn_score = metrics.r2_score(y_test, y_knn)\n",
    "print(knn_score)"
   ]
  },
  {
   "cell_type": "code",
   "execution_count": 28,
   "id": "8f5152ca",
   "metadata": {
    "execution": {
     "iopub.execute_input": "2022-08-23T16:46:10.610044Z",
     "iopub.status.busy": "2022-08-23T16:46:10.609207Z",
     "iopub.status.idle": "2022-08-23T16:46:13.565671Z",
     "shell.execute_reply": "2022-08-23T16:46:13.565032Z"
    },
    "papermill": {
     "duration": 2.979993,
     "end_time": "2022-08-23T16:46:13.567689",
     "exception": false,
     "start_time": "2022-08-23T16:46:10.587696",
     "status": "completed"
    },
    "tags": []
   },
   "outputs": [
    {
     "name": "stdout",
     "output_type": "stream",
     "text": [
      "0.9787981819670865\n"
     ]
    }
   ],
   "source": [
    "from xgboost import XGBRegressor\n",
    "xgb = XGBRegressor().fit(X_train_scaled,y_train)\n",
    "y_xgb = xgb.predict(X_test_scaled)\n",
    "xgb_score = metrics.r2_score(y_test, y_xgb)\n",
    "print(xgb_score)"
   ]
  },
  {
   "cell_type": "code",
   "execution_count": 29,
   "id": "015f70dc",
   "metadata": {
    "execution": {
     "iopub.execute_input": "2022-08-23T16:46:13.609541Z",
     "iopub.status.busy": "2022-08-23T16:46:13.609228Z",
     "iopub.status.idle": "2022-08-23T16:46:14.037339Z",
     "shell.execute_reply": "2022-08-23T16:46:14.036528Z"
    },
    "papermill": {
     "duration": 0.45081,
     "end_time": "2022-08-23T16:46:14.039753",
     "exception": false,
     "start_time": "2022-08-23T16:46:13.588943",
     "status": "completed"
    },
    "tags": []
   },
   "outputs": [
    {
     "name": "stdout",
     "output_type": "stream",
     "text": [
      "0.9842808870828608\n"
     ]
    }
   ],
   "source": [
    "from sklearn.ensemble import RandomForestRegressor\n",
    "rf = RandomForestRegressor().fit(X_train_scaled,y_train)\n",
    "y_rf = rf.predict(X_test_scaled)\n",
    "rf_score = metrics.r2_score(y_test, y_rf)\n",
    "print(rf_score)"
   ]
  },
  {
   "cell_type": "code",
   "execution_count": 30,
   "id": "e744f0bb",
   "metadata": {
    "execution": {
     "iopub.execute_input": "2022-08-23T16:46:14.079429Z",
     "iopub.status.busy": "2022-08-23T16:46:14.079109Z",
     "iopub.status.idle": "2022-08-23T16:46:14.363610Z",
     "shell.execute_reply": "2022-08-23T16:46:14.362801Z"
    },
    "papermill": {
     "duration": 0.306867,
     "end_time": "2022-08-23T16:46:14.365715",
     "exception": false,
     "start_time": "2022-08-23T16:46:14.058848",
     "status": "completed"
    },
    "tags": []
   },
   "outputs": [
    {
     "name": "stdout",
     "output_type": "stream",
     "text": [
      "0.9887261520320044\n"
     ]
    }
   ],
   "source": [
    "from sklearn.ensemble import ExtraTreesRegressor\n",
    "et = ExtraTreesRegressor().fit(X_train_scaled,y_train)\n",
    "y_et = et.predict(X_test_scaled)\n",
    "et_score = metrics.r2_score(y_test, y_et)\n",
    "print(et_score)"
   ]
  },
  {
   "cell_type": "code",
   "execution_count": 37,
   "id": "4ee6f391",
   "metadata": {},
   "outputs": [
    {
     "data": {
      "image/png": "[encoded data removed]",
      "text/plain": [
       "<Figure size 1000x600 with 1 Axes>"
      ]
     },
     "metadata": {},
     "output_type": "display_data"
    }
   ],
   "source": [
    "import matplotlib.pyplot as plt\n",
    "import numpy as np\n",
    "\n",
    "# Algorithm names and corresponding accuracy values\n",
    "algorithms = ['Linear Regression', 'KNN', 'XGBoost', 'Random Forest', 'Extra Tree']\n",
    "accuracies = [0.896915567366931, 0.9886213810048285, 0.9787981819670865, 0.9842808870828608, 0.9887261520320044]\n",
    "\n",
    "# Create a bar chart\n",
    "plt.figure(figsize=(10, 6))\n",
    "bars = plt.bar(algorithms, accuracies, color=['skyblue', 'lightgreen', 'lightcoral', 'lightgray', 'lightpink'])\n",
    "\n",
    "# Add value labels above the bars\n",
    "for bar in bars:\n",
    "    yval = bar.get_height()\n",
    "    plt.text(bar.get_x() + bar.get_width()/2 - 0.1, yval + 0.005, round(yval, 3))\n",
    "\n",
    "# Title and labels\n",
    "plt.title('Algorithm Performance Comparison', fontsize=16)\n",
    "plt.xlabel('Algorithms', fontsize=12)\n",
    "plt.ylabel('Accuracy', fontsize=12)\n",
    "plt.ylim(0.85, 1.01)  # Set y-limit for better visibility of differences\n",
    "\n",
    "# Display the plot\n",
    "plt.show()\n"
   ]
  },
  {
   "cell_type": "markdown",
   "id": "4f1aad0a",
   "metadata": {
    "papermill": {
     "duration": 0.018765,
     "end_time": "2022-08-23T16:46:14.403795",
     "exception": false,
     "start_time": "2022-08-23T16:46:14.385030",
     "status": "completed"
    },
    "tags": []
   },
   "source": [
    "## MODEL EVALUATION"
   ]
  },
  {
   "cell_type": "code",
   "execution_count": 38,
   "id": "1fc0c09c",
   "metadata": {},
   "outputs": [
    {
     "data": {
      "text/plain": [
       "['pipeline_model.pkl']"
      ]
     },
     "execution_count": 38,
     "metadata": {},
     "output_type": "execute_result"
    }
   ],
   "source": [
    "from sklearn.preprocessing import StandardScaler\n",
    "from sklearn.pipeline import Pipeline\n",
    "import joblib\n",
    "\n",
    "pipeline = Pipeline([\n",
    "    ('scaler', StandardScaler()),\n",
    "    ('regressor', ExtraTreesRegressor())\n",
    "])\n",
    "\n",
    "pipeline.fit(X_train, y_train)\n",
    "\n",
    "joblib.dump(pipeline, 'pipeline_model.pkl')"
   ]
  },
  {
   "cell_type": "code",
   "execution_count": 41,
   "id": "819dede9",
   "metadata": {},
   "outputs": [],
   "source": [
    "new_data = pd.DataFrame({\n",
    "    'SPX': [1447.160034],\n",
    "    'USO': [78.470001],\n",
    "    'SLV': [15.180],\n",
    "    'EUR/USD': [1.471692]\n",
    "})"
   ]
  },
  {
   "cell_type": "code",
   "execution_count": 42,
   "id": "fd376db9",
   "metadata": {},
   "outputs": [
    {
     "name": "stdout",
     "output_type": "stream",
     "text": [
      "Prediction for new data: 84.86000099999997\n"
     ]
    }
   ],
   "source": [
    "prediction = pipeline.predict(new_data)\n",
    "\n",
    "print(\"Prediction for new data:\", prediction[0])"
   ]
  },
  {
   "cell_type": "code",
   "execution_count": null,
   "id": "ba8db0d8",
   "metadata": {},
   "outputs": [],
   "source": []
  }
 ],
 "metadata": {
  "kernelspec": {
   "display_name": "Python 3 (ipykernel)",
   "language": "python",
   "name": "python3"
  },
  "language_info": {
   "codemirror_mode": {
    "name": "ipython",
    "version": 3
   },
   "file_extension": ".py",
   "mimetype": "text/x-python",
   "name": "python",
   "nbconvert_exporter": "python",
   "pygments_lexer": "ipython3",
   "version": "3.11.5"
  },
  "papermill": {
   "default_parameters": {},
   "duration": 864.588783,
   "end_time": "2022-08-23T17:00:13.471039",
   "environment_variables": {},
   "exception": null,
   "input_path": "__notebook__.ipynb",
   "output_path": "__notebook__.ipynb",
   "parameters": {},
   "start_time": "2022-08-23T16:45:48.882256",
   "version": "2.3.4"
  }
 },
 "nbformat": 4,
 "nbformat_minor": 5
}
